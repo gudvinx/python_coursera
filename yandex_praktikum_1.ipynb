{
 "cells": [
  {
   "cell_type": "markdown",
   "metadata": {},
   "source": [
    "## Исследование надёжности заёмщиков\n",
    "\n",
    "Заказчик — кредитный отдел банка. Нужно разобраться, влияет ли семейное положение и количество детей клиента на факт погашения кредита в срок. Входные данные от банка — статистика о платёжеспособности клиентов.\n",
    "\n",
    "Результаты исследования будут учтены при построении модели **кредитного скоринга** — специальной системы, которая оценивает способность потенциального заёмщика вернуть кредит банку."
   ]
  },
  {
   "cell_type": "markdown",
   "metadata": {},
   "source": [
    "### Шаг 1. Откройте файл с данными и изучите общую информацию. "
   ]
  },
  {
   "cell_type": "code",
   "execution_count": 1,
   "metadata": {},
   "outputs": [
    {
     "name": "stdout",
     "output_type": "stream",
     "text": [
      "<class 'pandas.core.frame.DataFrame'>\n",
      "RangeIndex: 21525 entries, 0 to 21524\n",
      "Data columns (total 12 columns):\n",
      " #   Column            Non-Null Count  Dtype  \n",
      "---  ------            --------------  -----  \n",
      " 0   children          21525 non-null  int64  \n",
      " 1   days_employed     19351 non-null  float64\n",
      " 2   dob_years         21525 non-null  int64  \n",
      " 3   education         21525 non-null  object \n",
      " 4   education_id      21525 non-null  int64  \n",
      " 5   family_status     21525 non-null  object \n",
      " 6   family_status_id  21525 non-null  int64  \n",
      " 7   gender            21525 non-null  object \n",
      " 8   income_type       21525 non-null  object \n",
      " 9   debt              21525 non-null  int64  \n",
      " 10  total_income      19351 non-null  float64\n",
      " 11  purpose           21525 non-null  object \n",
      "dtypes: float64(2), int64(5), object(5)\n",
      "memory usage: 2.0+ MB\n"
     ]
    },
    {
     "data": {
      "text/html": [
       "<div>\n",
       "<style scoped>\n",
       "    .dataframe tbody tr th:only-of-type {\n",
       "        vertical-align: middle;\n",
       "    }\n",
       "\n",
       "    .dataframe tbody tr th {\n",
       "        vertical-align: top;\n",
       "    }\n",
       "\n",
       "    .dataframe thead th {\n",
       "        text-align: right;\n",
       "    }\n",
       "</style>\n",
       "<table border=\"1\" class=\"dataframe\">\n",
       "  <thead>\n",
       "    <tr style=\"text-align: right;\">\n",
       "      <th></th>\n",
       "      <th>children</th>\n",
       "      <th>days_employed</th>\n",
       "      <th>dob_years</th>\n",
       "      <th>education</th>\n",
       "      <th>education_id</th>\n",
       "      <th>family_status</th>\n",
       "      <th>family_status_id</th>\n",
       "      <th>gender</th>\n",
       "      <th>income_type</th>\n",
       "      <th>debt</th>\n",
       "      <th>total_income</th>\n",
       "      <th>purpose</th>\n",
       "    </tr>\n",
       "  </thead>\n",
       "  <tbody>\n",
       "    <tr>\n",
       "      <th>0</th>\n",
       "      <td>1</td>\n",
       "      <td>-8437.673028</td>\n",
       "      <td>42</td>\n",
       "      <td>высшее</td>\n",
       "      <td>0</td>\n",
       "      <td>женат / замужем</td>\n",
       "      <td>0</td>\n",
       "      <td>F</td>\n",
       "      <td>сотрудник</td>\n",
       "      <td>0</td>\n",
       "      <td>253875.639453</td>\n",
       "      <td>покупка жилья</td>\n",
       "    </tr>\n",
       "    <tr>\n",
       "      <th>1</th>\n",
       "      <td>1</td>\n",
       "      <td>-4024.803754</td>\n",
       "      <td>36</td>\n",
       "      <td>среднее</td>\n",
       "      <td>1</td>\n",
       "      <td>женат / замужем</td>\n",
       "      <td>0</td>\n",
       "      <td>F</td>\n",
       "      <td>сотрудник</td>\n",
       "      <td>0</td>\n",
       "      <td>112080.014102</td>\n",
       "      <td>приобретение автомобиля</td>\n",
       "    </tr>\n",
       "    <tr>\n",
       "      <th>2</th>\n",
       "      <td>0</td>\n",
       "      <td>-5623.422610</td>\n",
       "      <td>33</td>\n",
       "      <td>Среднее</td>\n",
       "      <td>1</td>\n",
       "      <td>женат / замужем</td>\n",
       "      <td>0</td>\n",
       "      <td>M</td>\n",
       "      <td>сотрудник</td>\n",
       "      <td>0</td>\n",
       "      <td>145885.952297</td>\n",
       "      <td>покупка жилья</td>\n",
       "    </tr>\n",
       "    <tr>\n",
       "      <th>3</th>\n",
       "      <td>3</td>\n",
       "      <td>-4124.747207</td>\n",
       "      <td>32</td>\n",
       "      <td>среднее</td>\n",
       "      <td>1</td>\n",
       "      <td>женат / замужем</td>\n",
       "      <td>0</td>\n",
       "      <td>M</td>\n",
       "      <td>сотрудник</td>\n",
       "      <td>0</td>\n",
       "      <td>267628.550329</td>\n",
       "      <td>дополнительное образование</td>\n",
       "    </tr>\n",
       "    <tr>\n",
       "      <th>4</th>\n",
       "      <td>0</td>\n",
       "      <td>340266.072047</td>\n",
       "      <td>53</td>\n",
       "      <td>среднее</td>\n",
       "      <td>1</td>\n",
       "      <td>гражданский брак</td>\n",
       "      <td>1</td>\n",
       "      <td>F</td>\n",
       "      <td>пенсионер</td>\n",
       "      <td>0</td>\n",
       "      <td>158616.077870</td>\n",
       "      <td>сыграть свадьбу</td>\n",
       "    </tr>\n",
       "  </tbody>\n",
       "</table>\n",
       "</div>"
      ],
      "text/plain": [
       "   children  days_employed  dob_years education  education_id  \\\n",
       "0         1   -8437.673028         42    высшее             0   \n",
       "1         1   -4024.803754         36   среднее             1   \n",
       "2         0   -5623.422610         33   Среднее             1   \n",
       "3         3   -4124.747207         32   среднее             1   \n",
       "4         0  340266.072047         53   среднее             1   \n",
       "\n",
       "      family_status  family_status_id gender income_type  debt   total_income  \\\n",
       "0   женат / замужем                 0      F   сотрудник     0  253875.639453   \n",
       "1   женат / замужем                 0      F   сотрудник     0  112080.014102   \n",
       "2   женат / замужем                 0      M   сотрудник     0  145885.952297   \n",
       "3   женат / замужем                 0      M   сотрудник     0  267628.550329   \n",
       "4  гражданский брак                 1      F   пенсионер     0  158616.077870   \n",
       "\n",
       "                      purpose  \n",
       "0               покупка жилья  \n",
       "1     приобретение автомобиля  \n",
       "2               покупка жилья  \n",
       "3  дополнительное образование  \n",
       "4             сыграть свадьбу  "
      ]
     },
     "execution_count": 1,
     "metadata": {},
     "output_type": "execute_result"
    }
   ],
   "source": [
    "import pandas as pd\n",
    "data = pd.read_csv('https://code.s3.yandex.net/datasets/data.csv')\n",
    "data.info()\n",
    "data.head()"
   ]
  },
  {
   "cell_type": "markdown",
   "metadata": {},
   "source": [
    "### Вывод"
   ]
  },
  {
   "cell_type": "markdown",
   "metadata": {},
   "source": [
    "По первому взгляду на таблицу методом info() видно, что есть пропуски в общем трудовом стаже ('days_employed') и ежемесячном доходе ('total_income'). Также общий трудовой стаж имеет тип данных float, хотя количество дней число целое. \n",
    "По первым пяти строкам видно, что колонки трудового стажа ('days_employed') и образовании ('education') заполнены некорректно. Название колонок однообразно и не требует коррекции."
   ]
  },
  {
   "cell_type": "markdown",
   "metadata": {},
   "source": [
    "### Шаг 2. Предобработка данных"
   ]
  },
  {
   "cell_type": "markdown",
   "metadata": {},
   "source": [
    "### Обработка пропусков"
   ]
  },
  {
   "cell_type": "code",
   "execution_count": 2,
   "metadata": {},
   "outputs": [
    {
     "name": "stdout",
     "output_type": "stream",
     "text": [
      "Пропуски допущены в одних и тех же строках\n",
      "Отношение среднего к медиане для стажа:  30.495899052668598\n",
      "Отношение среднего к медиане для дохода:  1.1544937478551904\n",
      "Медиана стажа: 2194.220566878695 | Среднее стажа: 66914.72890682195\n"
     ]
    }
   ],
   "source": [
    "#проверим допущены ли пропуски в одних и тех же строках\n",
    "if list(data[data['total_income'].isna()].index) == list(data[data['total_income'].isna()].index):\n",
    "    print('Пропуски допущены в одних и тех же строках')\n",
    "else:\n",
    "    print('Пропуски допущены в разных строках')\n",
    "\n",
    "#приведем стаж к положительному числу\n",
    "data['days_employed'] = data['days_employed'].apply(lambda x: abs(x))\n",
    "\n",
    "#проверим отношения медианы к среднему, чтобы понять чем заполнить пропуски\n",
    "print('Отношение среднего к медиане для стажа: ', data['days_employed'].mean() / data['days_employed'].median())\n",
    "print('Отношение среднего к медиане для дохода: ', data['total_income'].mean() / data['total_income'].median())\n",
    "\n",
    "#посмотрим на значения медианы и среднего по стажу\n",
    "print('Медиана стажа: {} | Среднее стажа: {}'.format(data['days_employed'].median(), data['days_employed'].mean()))\n",
    "\n",
    "#заполним пропуски в стаже медианой\n",
    "data['days_employed'] = data['days_employed'].fillna(data['days_employed'].median())\n",
    "\n",
    "#заполним пропуски в доходе средним\n",
    "data['total_income'] = data['total_income'].fillna(data['total_income'].mean())"
   ]
  },
  {
   "cell_type": "markdown",
   "metadata": {},
   "source": [
    "### Вывод"
   ]
  },
  {
   "cell_type": "markdown",
   "metadata": {},
   "source": [
    "Пропуски допущены в одних строках и скорее всего взаимосвязаны. Если нет официального подтверждения трудового стажа, то и предоставить данные о доходах проблематично. При ознакомлении стало ясно, что все значения стажа отрицательны, что нелогично. Скорее всего данная ошибка появилась из-за того, что были перепутаны даты начала и окончания работы. Для того, чтобы понять чем заполнять пропуски определили отношения средннего к медиане. Для дохода данное отношение близко к еденице, что говорит нам о схожести этих величин. Т.е. для замены мы можем использовать любую. Было выбрано среднее. Для стажа данное отношение сильно отличается от еденицы. При просмотре на значения, видно, что среднее значение слишком большое и не подходит для определения стажа. Такое значение среднего обуславливается артефактами в данных. Поэтому для замены пропусков стада используем медиану."
   ]
  },
  {
   "cell_type": "markdown",
   "metadata": {},
   "source": [
    "### Замена типа данных"
   ]
  },
  {
   "cell_type": "code",
   "execution_count": 3,
   "metadata": {},
   "outputs": [
    {
     "name": "stdout",
     "output_type": "stream",
     "text": [
      "<class 'pandas.core.frame.DataFrame'>\n",
      "RangeIndex: 21525 entries, 0 to 21524\n",
      "Data columns (total 12 columns):\n",
      " #   Column            Non-Null Count  Dtype  \n",
      "---  ------            --------------  -----  \n",
      " 0   children          21525 non-null  int64  \n",
      " 1   days_employed     21525 non-null  int32  \n",
      " 2   dob_years         21525 non-null  int64  \n",
      " 3   education         21525 non-null  object \n",
      " 4   education_id      21525 non-null  int64  \n",
      " 5   family_status     21525 non-null  object \n",
      " 6   family_status_id  21525 non-null  int64  \n",
      " 7   gender            21525 non-null  object \n",
      " 8   income_type       21525 non-null  object \n",
      " 9   debt              21525 non-null  int64  \n",
      " 10  total_income      21525 non-null  float64\n",
      " 11  purpose           21525 non-null  object \n",
      "dtypes: float64(1), int32(1), int64(5), object(5)\n",
      "memory usage: 1.9+ MB\n"
     ]
    }
   ],
   "source": [
    "data['days_employed'] = data['days_employed'].astype('int')\n",
    "data.info()"
   ]
  },
  {
   "cell_type": "markdown",
   "metadata": {},
   "source": [
    "### Вывод"
   ]
  },
  {
   "cell_type": "markdown",
   "metadata": {},
   "source": [
    "Количество отработанных дней должно быть целым числом. Привели данную колонку к типу int. Пропущенные значения были заполнены в предидущем шаге."
   ]
  },
  {
   "cell_type": "markdown",
   "metadata": {},
   "source": [
    "### Обработка дубликатов"
   ]
  },
  {
   "cell_type": "code",
   "execution_count": 4,
   "metadata": {},
   "outputs": [
    {
     "name": "stdout",
     "output_type": "stream",
     "text": [
      "Количество дубликатов:  54\n",
      "Уникальные значения в колонке образование:  ['высшее' 'среднее' 'Среднее' 'СРЕДНЕЕ' 'ВЫСШЕЕ' 'неоконченное высшее'\n",
      " 'начальное' 'Высшее' 'НЕОКОНЧЕННОЕ ВЫСШЕЕ' 'Неоконченное высшее'\n",
      " 'НАЧАЛЬНОЕ' 'Начальное' 'Ученая степень' 'УЧЕНАЯ СТЕПЕНЬ'\n",
      " 'ученая степень']\n",
      "Уникальные значения в колонке семейное положение:  ['женат / замужем' 'гражданский брак' 'вдовец / вдова' 'в разводе'\n",
      " 'Не женат / не замужем']\n",
      "Уникальные значение в каолонке типа занятости:  ['сотрудник' 'пенсионер' 'компаньон' 'госслужащий' 'безработный'\n",
      " 'предприниматель' 'студент' 'в декрете']\n",
      "Количество дубликатов после преобразований: 71\n",
      "Проверка: 0\n"
     ]
    }
   ],
   "source": [
    "#оценим количество дубликатов\n",
    "print('Количество дубликатов: ', data.duplicated().sum())\n",
    "\n",
    "#посмотрим на уникальные значения в ячейках с образованием, типом занятости и семенймы положением\n",
    "print('Уникальные значения в колонке образование: ', data['education'].unique())\n",
    "print('Уникальные значения в колонке семейное положение: ', data['family_status'].unique())\n",
    "print('Уникальные значение в каолонке типа занятости: ', data['income_type'].unique())\n",
    "\n",
    "#приводим столбец с образованием к единообразию\n",
    "data['education'] = data['education'].str.lower()\n",
    "\n",
    "#теперь посмотрим изменилось ли количество дубликатов\n",
    "print('Количество дубликатов после преобразований:', data.duplicated().sum())\n",
    "\n",
    "#удалим дубликаты и проверим результат\n",
    "data = data.drop_duplicates().reset_index(drop=True)\n",
    "print('Проверка:', data.duplicated().sum())"
   ]
  },
  {
   "cell_type": "markdown",
   "metadata": {},
   "source": [
    "### Вывод"
   ]
  },
  {
   "cell_type": "markdown",
   "metadata": {},
   "source": [
    "Оценили количество дубликатов, начальное число 54. Но в наших данных есть столбцы которые можно заполнить по разному. При ознакомлении с таблицой очевидны было разное написание образование. Проверили такие столбцы на уникальные значения. После привели все записи образования в единый вид. После этих преобразований количество дубликатов увеличилось до 71, от которых успешно избавились. Возможно дубликаты появились из-за того, что человек приходил в разные отделения для подачи заявки на кредит или попадал к разным менеджерам в одном отделении."
   ]
  },
  {
   "cell_type": "markdown",
   "metadata": {},
   "source": [
    "### Лемматизация"
   ]
  },
  {
   "cell_type": "code",
   "execution_count": 5,
   "metadata": {},
   "outputs": [
    {
     "data": {
      "text/html": [
       "<div>\n",
       "<style scoped>\n",
       "    .dataframe tbody tr th:only-of-type {\n",
       "        vertical-align: middle;\n",
       "    }\n",
       "\n",
       "    .dataframe tbody tr th {\n",
       "        vertical-align: top;\n",
       "    }\n",
       "\n",
       "    .dataframe thead th {\n",
       "        text-align: right;\n",
       "    }\n",
       "</style>\n",
       "<table border=\"1\" class=\"dataframe\">\n",
       "  <thead>\n",
       "    <tr style=\"text-align: right;\">\n",
       "      <th></th>\n",
       "      <th>children</th>\n",
       "      <th>days_employed</th>\n",
       "      <th>dob_years</th>\n",
       "      <th>education</th>\n",
       "      <th>education_id</th>\n",
       "      <th>family_status</th>\n",
       "      <th>family_status_id</th>\n",
       "      <th>gender</th>\n",
       "      <th>income_type</th>\n",
       "      <th>debt</th>\n",
       "      <th>total_income</th>\n",
       "      <th>purpose</th>\n",
       "      <th>purpose_tag</th>\n",
       "    </tr>\n",
       "  </thead>\n",
       "  <tbody>\n",
       "    <tr>\n",
       "      <th>0</th>\n",
       "      <td>1</td>\n",
       "      <td>8437</td>\n",
       "      <td>42</td>\n",
       "      <td>высшее</td>\n",
       "      <td>0</td>\n",
       "      <td>женат / замужем</td>\n",
       "      <td>0</td>\n",
       "      <td>F</td>\n",
       "      <td>сотрудник</td>\n",
       "      <td>0</td>\n",
       "      <td>253875.639453</td>\n",
       "      <td>покупка жилья</td>\n",
       "      <td>жил</td>\n",
       "    </tr>\n",
       "    <tr>\n",
       "      <th>1</th>\n",
       "      <td>1</td>\n",
       "      <td>4024</td>\n",
       "      <td>36</td>\n",
       "      <td>среднее</td>\n",
       "      <td>1</td>\n",
       "      <td>женат / замужем</td>\n",
       "      <td>0</td>\n",
       "      <td>F</td>\n",
       "      <td>сотрудник</td>\n",
       "      <td>0</td>\n",
       "      <td>112080.014102</td>\n",
       "      <td>приобретение автомобиля</td>\n",
       "      <td>автомобил</td>\n",
       "    </tr>\n",
       "    <tr>\n",
       "      <th>2</th>\n",
       "      <td>0</td>\n",
       "      <td>5623</td>\n",
       "      <td>33</td>\n",
       "      <td>среднее</td>\n",
       "      <td>1</td>\n",
       "      <td>женат / замужем</td>\n",
       "      <td>0</td>\n",
       "      <td>M</td>\n",
       "      <td>сотрудник</td>\n",
       "      <td>0</td>\n",
       "      <td>145885.952297</td>\n",
       "      <td>покупка жилья</td>\n",
       "      <td>жил</td>\n",
       "    </tr>\n",
       "    <tr>\n",
       "      <th>3</th>\n",
       "      <td>3</td>\n",
       "      <td>4124</td>\n",
       "      <td>32</td>\n",
       "      <td>среднее</td>\n",
       "      <td>1</td>\n",
       "      <td>женат / замужем</td>\n",
       "      <td>0</td>\n",
       "      <td>M</td>\n",
       "      <td>сотрудник</td>\n",
       "      <td>0</td>\n",
       "      <td>267628.550329</td>\n",
       "      <td>дополнительное образование</td>\n",
       "      <td>образован</td>\n",
       "    </tr>\n",
       "    <tr>\n",
       "      <th>4</th>\n",
       "      <td>0</td>\n",
       "      <td>340266</td>\n",
       "      <td>53</td>\n",
       "      <td>среднее</td>\n",
       "      <td>1</td>\n",
       "      <td>гражданский брак</td>\n",
       "      <td>1</td>\n",
       "      <td>F</td>\n",
       "      <td>пенсионер</td>\n",
       "      <td>0</td>\n",
       "      <td>158616.077870</td>\n",
       "      <td>сыграть свадьбу</td>\n",
       "      <td>свадьб</td>\n",
       "    </tr>\n",
       "    <tr>\n",
       "      <th>5</th>\n",
       "      <td>0</td>\n",
       "      <td>926</td>\n",
       "      <td>27</td>\n",
       "      <td>высшее</td>\n",
       "      <td>0</td>\n",
       "      <td>гражданский брак</td>\n",
       "      <td>1</td>\n",
       "      <td>M</td>\n",
       "      <td>компаньон</td>\n",
       "      <td>0</td>\n",
       "      <td>255763.565419</td>\n",
       "      <td>покупка жилья</td>\n",
       "      <td>жил</td>\n",
       "    </tr>\n",
       "    <tr>\n",
       "      <th>6</th>\n",
       "      <td>0</td>\n",
       "      <td>2879</td>\n",
       "      <td>43</td>\n",
       "      <td>высшее</td>\n",
       "      <td>0</td>\n",
       "      <td>женат / замужем</td>\n",
       "      <td>0</td>\n",
       "      <td>F</td>\n",
       "      <td>компаньон</td>\n",
       "      <td>0</td>\n",
       "      <td>240525.971920</td>\n",
       "      <td>операции с жильем</td>\n",
       "      <td>жил</td>\n",
       "    </tr>\n",
       "    <tr>\n",
       "      <th>7</th>\n",
       "      <td>0</td>\n",
       "      <td>152</td>\n",
       "      <td>50</td>\n",
       "      <td>среднее</td>\n",
       "      <td>1</td>\n",
       "      <td>женат / замужем</td>\n",
       "      <td>0</td>\n",
       "      <td>M</td>\n",
       "      <td>сотрудник</td>\n",
       "      <td>0</td>\n",
       "      <td>135823.934197</td>\n",
       "      <td>образование</td>\n",
       "      <td>образован</td>\n",
       "    </tr>\n",
       "    <tr>\n",
       "      <th>8</th>\n",
       "      <td>2</td>\n",
       "      <td>6929</td>\n",
       "      <td>35</td>\n",
       "      <td>высшее</td>\n",
       "      <td>0</td>\n",
       "      <td>гражданский брак</td>\n",
       "      <td>1</td>\n",
       "      <td>F</td>\n",
       "      <td>сотрудник</td>\n",
       "      <td>0</td>\n",
       "      <td>95856.832424</td>\n",
       "      <td>на проведение свадьбы</td>\n",
       "      <td>свадьб</td>\n",
       "    </tr>\n",
       "    <tr>\n",
       "      <th>9</th>\n",
       "      <td>0</td>\n",
       "      <td>2188</td>\n",
       "      <td>41</td>\n",
       "      <td>среднее</td>\n",
       "      <td>1</td>\n",
       "      <td>женат / замужем</td>\n",
       "      <td>0</td>\n",
       "      <td>M</td>\n",
       "      <td>сотрудник</td>\n",
       "      <td>0</td>\n",
       "      <td>144425.938277</td>\n",
       "      <td>покупка жилья для семьи</td>\n",
       "      <td>жил</td>\n",
       "    </tr>\n",
       "  </tbody>\n",
       "</table>\n",
       "</div>"
      ],
      "text/plain": [
       "   children  days_employed  dob_years education  education_id  \\\n",
       "0         1           8437         42    высшее             0   \n",
       "1         1           4024         36   среднее             1   \n",
       "2         0           5623         33   среднее             1   \n",
       "3         3           4124         32   среднее             1   \n",
       "4         0         340266         53   среднее             1   \n",
       "5         0            926         27    высшее             0   \n",
       "6         0           2879         43    высшее             0   \n",
       "7         0            152         50   среднее             1   \n",
       "8         2           6929         35    высшее             0   \n",
       "9         0           2188         41   среднее             1   \n",
       "\n",
       "      family_status  family_status_id gender income_type  debt   total_income  \\\n",
       "0   женат / замужем                 0      F   сотрудник     0  253875.639453   \n",
       "1   женат / замужем                 0      F   сотрудник     0  112080.014102   \n",
       "2   женат / замужем                 0      M   сотрудник     0  145885.952297   \n",
       "3   женат / замужем                 0      M   сотрудник     0  267628.550329   \n",
       "4  гражданский брак                 1      F   пенсионер     0  158616.077870   \n",
       "5  гражданский брак                 1      M   компаньон     0  255763.565419   \n",
       "6   женат / замужем                 0      F   компаньон     0  240525.971920   \n",
       "7   женат / замужем                 0      M   сотрудник     0  135823.934197   \n",
       "8  гражданский брак                 1      F   сотрудник     0   95856.832424   \n",
       "9   женат / замужем                 0      M   сотрудник     0  144425.938277   \n",
       "\n",
       "                      purpose purpose_tag  \n",
       "0               покупка жилья         жил  \n",
       "1     приобретение автомобиля   автомобил  \n",
       "2               покупка жилья         жил  \n",
       "3  дополнительное образование   образован  \n",
       "4             сыграть свадьбу      свадьб  \n",
       "5               покупка жилья         жил  \n",
       "6           операции с жильем         жил  \n",
       "7                 образование   образован  \n",
       "8       на проведение свадьбы      свадьб  \n",
       "9     покупка жилья для семьи         жил  "
      ]
     },
     "execution_count": 5,
     "metadata": {},
     "output_type": "execute_result"
    }
   ],
   "source": [
    "#import pymystem3 as pm\n",
    "from nltk.stem import SnowballStemmer \n",
    "russian_stemmer = SnowballStemmer('russian')\n",
    "\n",
    "#приведем все знаки в цели кредита к нижнему регистру\n",
    "data['purpose'] = data['purpose'].str.lower()\n",
    "\n",
    "#создадим словарь возможных целей\n",
    "dict_purpose = list(map(russian_stemmer.stem, ['жилье', 'свадьба', 'автомобиль', 'образование', 'недвижимость']))\n",
    "\n",
    "#напишем функцию которая сделает группы на основе строк из исходной таблицы\n",
    "def define_purpose(purpose):\n",
    "    \n",
    "    #лемматизируем принятую строку\n",
    "    lem_purpose = list(map(russian_stemmer.stem, purpose.split(' ')))\n",
    "    #соотносим цель со словарем\n",
    "    for word in lem_purpose:\n",
    "        if word in dict_purpose:\n",
    "            return word\n",
    "    #возвращаем исходную строку если не нашлось совпадений\n",
    "    return purpose\n",
    "\n",
    "\n",
    "#находим список уникальных целей\n",
    "unique_purpose_raw = data['purpose'].unique()\n",
    "\n",
    "#создаем пустой словарь с ключами из списка уникальных целей\n",
    "purposes_dict_for_replace = dict.fromkeys(unique_purpose_raw)\n",
    "\n",
    "#заполняем словарь лемматизированными словами\n",
    "for i in purposes_dict_for_replace:\n",
    "    purposes_dict_for_replace[i] = define_purpose(str(i))\n",
    "\n",
    "#создаем новую колонку, которая характеризует цель кредита одним словом\n",
    "purpose_tag = data['purpose'].apply(lambda x: purposes_dict_for_replace[x])\n",
    "purpose_tag.name = 'purpose_tag'\n",
    "try:\n",
    "    data = data.join(purpose_tag)\n",
    "except:\n",
    "   pass\n",
    "\n",
    "data.head(10)"
   ]
  },
  {
   "cell_type": "markdown",
   "metadata": {},
   "source": [
    "### Вывод"
   ]
  },
  {
   "cell_type": "markdown",
   "metadata": {},
   "source": [
    "С помощью библиотке PyMystem и NLTK обработали цели взятия кредита и получили единообразное описание. Используя новую колонку можно будет категоризировать данные и делать на их основе выводы. Функция работает, к сожалению, долго."
   ]
  },
  {
   "cell_type": "markdown",
   "metadata": {},
   "source": [
    "### Категоризация данных"
   ]
  },
  {
   "cell_type": "code",
   "execution_count": 6,
   "metadata": {},
   "outputs": [
    {
     "name": "stdout",
     "output_type": "stream",
     "text": [
      "                     количество заемщиков\n",
      "education                                \n",
      "высшее                               5250\n",
      "начальное                             282\n",
      "неоконченное высшее                   744\n",
      "среднее                             15172\n",
      "ученая степень                          6\n",
      "                       количество заемщиков\n",
      "family_status                              \n",
      "Не женат / не замужем                  2810\n",
      "в разводе                              1195\n",
      "вдовец / вдова                          959\n",
      "гражданский брак                       4151\n",
      "женат / замужем                       12339\n"
     ]
    }
   ],
   "source": [
    "print(data.groupby('education').agg({'debt' : 'count'}).rename(columns={'debt' : 'количество заемщиков'}))\n",
    "print(data.groupby('family_status').agg({'debt' : 'count'}).rename(columns={'debt' : 'количество заемщиков'}))"
   ]
  },
  {
   "cell_type": "markdown",
   "metadata": {},
   "source": [
    "### Вывод"
   ]
  },
  {
   "cell_type": "markdown",
   "metadata": {},
   "source": [
    "Посчитали количество заемщиков в разных группах по образованию и семейному статусу. Самыми распространенными группами оказались люди со средним образованием и находящиеся в браке."
   ]
  },
  {
   "cell_type": "markdown",
   "metadata": {},
   "source": [
    "### Шаг 3. Ответьте на вопросы"
   ]
  },
  {
   "cell_type": "markdown",
   "metadata": {},
   "source": [
    "- Есть ли зависимость между наличием детей и возвратом кредита в срок?"
   ]
  },
  {
   "cell_type": "code",
   "execution_count": 7,
   "metadata": {},
   "outputs": [
    {
     "name": "stdout",
     "output_type": "stream",
     "text": [
      "status\n",
      "есть дети    9.208203\n",
      "нет детей    7.543822\n",
      "Name: debt, dtype: float64\n"
     ]
    }
   ],
   "source": [
    "#создадим новый dataframe для анализа\n",
    "children_data = data[['children', 'debt']]\n",
    "\n",
    "#функция для создания категории \"с детьми / без детей\"\n",
    "def child_status(child):\n",
    "    if child != 0:\n",
    "        return 'есть дети'\n",
    "    else:\n",
    "        return 'нет детей'\n",
    "\n",
    "#применяем функцию к новому dataframe и добавляем новую колонку со статусом\n",
    "status = children_data['children'].apply(child_status)\n",
    "status.name = 'status'\n",
    "try:\n",
    "    children_data = children_data.join(status)\n",
    "except:\n",
    "    pass\n",
    "\n",
    "#найдем количество должников в разных группах\n",
    "debt_w_child = children_data[children_data['debt'] == 1].groupby('status').agg({'debt' : 'count'}) \n",
    "\n",
    "#найдем долю должников относительно всех заемщиков\n",
    "result = debt_w_child['debt'] / children_data.groupby('status')['debt'].count() * 100\n",
    "print(result)"
   ]
  },
  {
   "cell_type": "markdown",
   "metadata": {},
   "source": [
    "### Вывод"
   ]
  },
  {
   "cell_type": "markdown",
   "metadata": {},
   "source": [
    "Среди людей с детьми, обратившимися за кредитом 9.2% имели задолженности. Тогда как среди людей без детей таких только 7.5%. Отсюда можно сделать вывод, что наличие детей усложняет возврат кредита вовремя."
   ]
  },
  {
   "cell_type": "markdown",
   "metadata": {},
   "source": [
    "- Есть ли зависимость между семейным положением и возвратом кредита в срок?"
   ]
  },
  {
   "cell_type": "code",
   "execution_count": 8,
   "metadata": {},
   "outputs": [
    {
     "name": "stdout",
     "output_type": "stream",
     "text": [
      "           family_status  debt\n",
      "2         вдовец / вдова  6.57\n",
      "1              в разводе  7.11\n",
      "4        женат / замужем  7.55\n",
      "3       гражданский брак  9.35\n",
      "0  Не женат / не замужем  9.75\n"
     ]
    }
   ],
   "source": [
    "#создадим новые dataframe для анализа\n",
    "family = data[['family_status', 'debt']]\n",
    "\n",
    "#найдем количество должников в разных группах\n",
    "family_w_debt = family[family['debt'] == 1].groupby('family_status').agg({'debt' : 'count'})\n",
    "\n",
    "#найдем долю должников относительно всех заемщиков\n",
    "result = family_w_debt / family.groupby('family_status').agg({'debt' : 'count'}) * 100\n",
    "result = result.reset_index()\n",
    "result.debt = result.debt.apply(lambda x: float('{:.2f}'.format(x)))\n",
    "print(result.sort_values(by='debt', ascending=True))"
   ]
  },
  {
   "cell_type": "markdown",
   "metadata": {},
   "source": [
    "### Вывод"
   ]
  },
  {
   "cell_type": "markdown",
   "metadata": {},
   "source": [
    "Результаты говорят, что те люди которые официально оформляли отношения более дисциплинированы в выплатах, в сравнении с тем кто живет в гражданском браке или без официального оформления отношений. "
   ]
  },
  {
   "cell_type": "markdown",
   "metadata": {},
   "source": [
    "- Есть ли зависимость между уровнем дохода и возвратом кредита в срок?"
   ]
  },
  {
   "cell_type": "code",
   "execution_count": 9,
   "metadata": {},
   "outputs": [
    {
     "name": "stdout",
     "output_type": "stream",
     "text": [
      "level\n",
      "высокий    0.071402\n",
      "низкий     0.079605\n",
      "средний    0.086798\n",
      "Name: debt, dtype: float64\n"
     ]
    }
   ],
   "source": [
    "#определяем первый и третий квартиль для дохода\n",
    "first_quartile = int(data['total_income'].quantile([.25]))\n",
    "third_quartile = int(data['total_income'].quantile([.75]))\n",
    "\n",
    "#создаем новый dataframe для анализа\n",
    "income_data = data[['debt', 'total_income']]\n",
    "\n",
    "#напишем функцию для ранжирования дохода\n",
    "def income_range(income, low_level, high_level):\n",
    "    if income < first_quartile:\n",
    "        return 'низкий'\n",
    "    elif income < third_quartile:\n",
    "        return 'средний'\n",
    "    else:\n",
    "        return 'высокий'\n",
    "\n",
    "#применяем функцию к таблице и вносим новые данные в столбец level\n",
    "level_series = income_data['total_income'].apply(lambda x: income_range(x, first_quartile, third_quartile))\n",
    "level_series.name = 'level'\n",
    "income_data = income_data.join(level_series)\n",
    "\n",
    "#найдем долю людей с задолженностью внутри разных групп дохода\n",
    "result = income_data[income_data['debt'] == 1].groupby('level').count()['debt'] / income_data.groupby('level').count()['debt']  \n",
    "print(result.sort_values(ascending=True))"
   ]
  },
  {
   "cell_type": "markdown",
   "metadata": {},
   "source": [
    "### Вывод"
   ]
  },
  {
   "cell_type": "markdown",
   "metadata": {},
   "source": [
    "Наибольший процент людей с задолженностью среди людей со средним уровнем дохода."
   ]
  },
  {
   "cell_type": "markdown",
   "metadata": {},
   "source": [
    "- Как разные цели кредита влияют на его возврат в срок?"
   ]
  },
  {
   "cell_type": "code",
   "execution_count": 10,
   "metadata": {},
   "outputs": [
    {
     "name": "stdout",
     "output_type": "stream",
     "text": [
      "                 debt\n",
      "purpose_tag          \n",
      "жил          6.977153\n",
      "недвижим     7.518063\n",
      "свадьб       8.003442\n",
      "автомобили   9.205021\n",
      "образован    9.220035\n",
      "автомобил    9.378265\n"
     ]
    }
   ],
   "source": [
    "#создаем новый dataframe для анализа\n",
    "income_data = data[['debt', 'purpose_tag']]\n",
    "\n",
    "#найдем долю людей с задолженностью внутри разных групп целей\n",
    "result = income_data[income_data['debt'] == 1].groupby('purpose_tag').count() / income_data.groupby('purpose_tag').count() * 100\n",
    "print(result.sort_values(by='debt', ascending=True))"
   ]
  },
  {
   "cell_type": "markdown",
   "metadata": {},
   "source": [
    "### Вывод"
   ]
  },
  {
   "cell_type": "markdown",
   "metadata": {},
   "source": [
    "Люди берущие кредит на операции с недвижимостью имеют самую низкую долю задолженности. А самыми рисковыми оказались образование и автомобиль."
   ]
  },
  {
   "cell_type": "markdown",
   "metadata": {},
   "source": [
    "### Шаг 4. Общий вывод"
   ]
  },
  {
   "cell_type": "markdown",
   "metadata": {},
   "source": [
    "Оказалось, что лучшим заемщиком является вдовец или вдова без детей и с высоким уровнем дохода, собирающийся купить жилье! А худшим не состоящий в официальных отношениях человек с ребенком, со средним уровнем дохода и желающим купить автомобиль!"
   ]
  }
 ],
 "metadata": {
  "kernelspec": {
   "display_name": "Python 3",
   "language": "python",
   "name": "python3"
  },
  "language_info": {
   "codemirror_mode": {
    "name": "ipython",
    "version": 3
   },
   "file_extension": ".py",
   "mimetype": "text/x-python",
   "name": "python",
   "nbconvert_exporter": "python",
   "pygments_lexer": "ipython3",
   "version": "3.8.3"
  }
 },
 "nbformat": 4,
 "nbformat_minor": 2
}
